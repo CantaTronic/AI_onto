{
 "cells": [
  {
   "cell_type": "markdown",
   "id": "38061757",
   "metadata": {},
   "source": [
    "# Интеграция результатов в единый пайплайн\n",
    "\n",
    "<b>Цель:</b> Собрать единый пайплайн от загрузки и очистки данных до классификации и записи эмбеддингов в Qdrant.\n",
    "\n",
    "<b>Реализация: </b> В этом ноутбуке я буду экспериментировать с настройкой пайплайна для 2х разных сеттингов: офисный, в котором можно работать на GPU c большими данными и мой локальный, в котором можно быстро тестировать некоторые гипотезы и методы. По итогам этой работы я также подготовлю скрипт для работы на больших данных на кластере.\n",
    "\n",
    "Пайплайн: \n",
    "1. На офисном компьютере:\n",
    "    - Чтение данных из MongoDB \n",
    "    - Предвариательная обработка (очистка от двойных пробелов, нечитаемых символов, стоп-слов; от лемматизации отказались) \n",
    "    - Векторизация \n",
    "    - Классификация (большими моделями на GPU)\n",
    "    - Сохранение результатов в векторную базу Qdrant.\n",
    "2. На моём ноутбуке:\n",
    "    - Чтение небольших сэмплов данных из csv \n",
    "    - Предвариательная обработка (очистка от двойных пробелов, нечитаемых символов, стоп-слов; от лемматизации отказались) \n",
    "    - Векторизация \n",
    "    - Классификация (\"лёгкими\" моделями, т.к. у меня нет GPU)\n",
    "    - Сохранение результатов в csv"
   ]
  },
  {
   "cell_type": "markdown",
   "id": "2f095a50",
   "metadata": {},
   "source": [
    "## Сруктура ноутбука\n",
    "\n",
    "1. Настройка среды\n",
    "2. Импорты библиотек и инициализация\n",
    "3. Загрузка данных\n",
    "4. Предобработка\n",
    "5. Создание эмбеддингов\n",
    "6. Сохранение результатов\n",
    "\n",
    "## 1. Настройка среды\n",
    "\n",
    "В этой части кода мы даём ноутбуку понять, где мы работаем, через флаг ENV:\n",
    "- `ENV = \"local\"` - работаем на моём локальном ноутбуке. Из config.yaml в корне будут считаны следующие параметры:\n",
    "    - `DATA_PATH: \"./data/sample.csv\"` - локальный путь к csv файлу с сэмплом данных на диске\n",
    "    - `USE_GPU: false` - не использовать GPU, потому что на этом компьютере её нет\n",
    "    - `EMBEDDING_MODEL: \"all-MiniLM-L6-v2\"` - использовать \"лёгкую\" модель для эмбеддинга, которую комп потянет и без GPU\n",
    "- `ENV = \"prod\"` - работаем в офисном сеттинге. Из config.yaml в корне будут считаны следующие параметры:\n",
    "    - `DATA_PATH: null` - данные будут считываться из mongoDB и писаться в Qdrant. `MONGO_URI` и `QDRANT_URL` указаны в файле `.env` в корне репозитория. \n",
    "    - `USE_GPU: true` - в проде есть GPU, и мы будем её использовать  \n",
    "    - `EMBEDDING_MODEL: \"sentence-transformers/all-mpnet-base-v2\"` - используем более \"продвинутую\" LLM для эмбеддингов."
   ]
  },
  {
   "cell_type": "code",
   "execution_count": 3,
   "id": "63d57140",
   "metadata": {},
   "outputs": [
    {
     "name": "stdout",
     "output_type": "stream",
     "text": [
      "Running in LOCAL mode\n",
      "{'DATA_PATH': './data/sample.csv', 'USE_GPU': False, 'EMBEDDING_MODEL': 'all-MiniLM-L6-v2', 'MONGO_URI': 'mongodb://localhost:27017', 'QDRANT_URL': 'http://localhost:6333'}\n"
     ]
    }
   ],
   "source": [
    "import sys\n",
    "import os\n",
    "\n",
    "# Абсолютный путь к корню проекта\n",
    "project_root = os.path.abspath(os.path.join(\"..\"))  # если notebooks/ внутри корня\n",
    "if project_root not in sys.path:\n",
    "    sys.path.insert(0, project_root)\n",
    "\n",
    "from utils.config_loader import load_config\n",
    "\n",
    "ENV = \"local\"           #ПЕРЕКЛЮЧИТЬ НАСТРОЙКУ ЗДЕСЬ!\n",
    "# ENV = \"prod\"\n",
    "CONFIG = load_config(ENV, project_root=project_root)\n",
    "\n",
    "print(f\"Running in {ENV.upper()} mode\")\n",
    "print(CONFIG)\n"
   ]
  },
  {
   "cell_type": "markdown",
   "id": "6885ed14",
   "metadata": {},
   "source": [
    "## 2. Импорты библиотек и инициализация"
   ]
  },
  {
   "cell_type": "code",
   "execution_count": 4,
   "id": "08116251",
   "metadata": {},
   "outputs": [],
   "source": [
    "import pandas as pd\n",
    "from pymongo import MongoClient\n",
    "from tqdm.auto import tqdm\n",
    "import re\n",
    "import spacy\n",
    "from transformers import pipeline\n",
    "import matplotlib.pyplot as plt"
   ]
  },
  {
   "cell_type": "code",
   "execution_count": null,
   "id": "601f6df6",
   "metadata": {},
   "outputs": [],
   "source": []
  }
 ],
 "metadata": {
  "kernelspec": {
   "display_name": "Python (nlp_local)",
   "language": "python",
   "name": "nlp_local"
  },
  "language_info": {
   "codemirror_mode": {
    "name": "ipython",
    "version": 3
   },
   "file_extension": ".py",
   "mimetype": "text/x-python",
   "name": "python",
   "nbconvert_exporter": "python",
   "pygments_lexer": "ipython3",
   "version": "3.12.8"
  }
 },
 "nbformat": 4,
 "nbformat_minor": 5
}
