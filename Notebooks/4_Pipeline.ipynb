{
 "cells": [
  {
   "cell_type": "code",
   "execution_count": 1,
   "id": "be054e47",
   "metadata": {},
   "outputs": [
    {
     "name": "stdout",
     "output_type": "stream",
     "text": [
      "Requirement already satisfied: dotenv in /home/victoria/miniforge3/lib/python3.12/site-packages (0.9.9)\r\n",
      "Requirement already satisfied: python-dotenv in /home/victoria/miniforge3/lib/python3.12/site-packages (from dotenv) (1.1.1)\r\n"
     ]
    }
   ],
   "source": [
    "!pip install dotenv"
   ]
  },
  {
   "cell_type": "code",
   "execution_count": 2,
   "id": "63d57140",
   "metadata": {},
   "outputs": [
    {
     "name": "stdout",
     "output_type": "stream",
     "text": [
      "Running in LOCAL mode\n",
      "{'DATA_PATH': './data/sample.csv', 'USE_GPU': False, 'EMBEDDING_MODEL': 'all-MiniLM-L6-v2', 'MONGO_URI': 'mongodb://localhost:27017', 'QDRANT_URL': 'http://localhost:6333'}\n"
     ]
    }
   ],
   "source": [
    "# ============================================================\n",
    "# 0. Настройки среды\n",
    "# ============================================================\n",
    "import sys\n",
    "import os\n",
    "\n",
    "# Абсолютный путь к корню проекта\n",
    "project_root = os.path.abspath(os.path.join(\"..\"))  # если notebooks/ внутри корня\n",
    "if project_root not in sys.path:\n",
    "    sys.path.insert(0, project_root)\n",
    "\n",
    "from utils.config_loader import load_config\n",
    "\n",
    "ENV = \"local\"\n",
    "CONFIG = load_config(ENV, project_root=project_root)\n",
    "\n",
    "print(f\"Running in {ENV.upper()} mode\")\n",
    "print(CONFIG)\n"
   ]
  },
  {
   "cell_type": "code",
   "execution_count": null,
   "id": "1f72286c",
   "metadata": {},
   "outputs": [],
   "source": []
  }
 ],
 "metadata": {
  "kernelspec": {
   "display_name": "Python (nlp_env)",
   "language": "python",
   "name": "nlp_env"
  },
  "language_info": {
   "codemirror_mode": {
    "name": "ipython",
    "version": 3
   },
   "file_extension": ".py",
   "mimetype": "text/x-python",
   "name": "python",
   "nbconvert_exporter": "python",
   "pygments_lexer": "ipython3",
   "version": "3.12.8"
  }
 },
 "nbformat": 4,
 "nbformat_minor": 5
}
